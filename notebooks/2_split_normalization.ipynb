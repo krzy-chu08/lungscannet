{
 "cells": [
  {
   "cell_type": "code",
   "execution_count": 12,
   "id": "dc634737",
   "metadata": {},
   "outputs": [],
   "source": [
    "import numpy as np\n",
    "import pandas as pd\n",
    "import matplotlib.pyplot as plt\n",
    "import seaborn as sns\n",
    "import os\n",
    "from sklearn.preprocessing import StandardScaler\n",
    "from iterstrat.ml_stratifiers import MultilabelStratifiedKFold\n",
    "from sklearn.model_selection import train_test_split"
   ]
  },
  {
   "cell_type": "code",
   "execution_count": 13,
   "id": "ecfe3db2",
   "metadata": {},
   "outputs": [],
   "source": [
    "model_data = pd.read_parquet('../data/model_data.parquet')"
   ]
  },
  {
   "cell_type": "markdown",
   "id": "42a93e5a",
   "metadata": {},
   "source": [
    "Time for the crucial part, splitting data. Images from the same patient should be in the same set. Also, the label distribution should be proportional. After doing some research I found a perfect package for this kind of job. Iterative-stratification, which will allow us to do it without unnecessarily complicated functions."
   ]
  },
  {
   "cell_type": "code",
   "execution_count": 14,
   "id": "dac3ea4f",
   "metadata": {},
   "outputs": [
    {
     "name": "stdout",
     "output_type": "stream",
     "text": [
      "   Patient ID          image_id  Follow-up #  Patient Age  Patient Gender  \\\n",
      "0           1  00000001_000.png            0           58               1   \n",
      "1           2  00000002_000.png            0           81               1   \n",
      "2           3  00000003_000.png            0           81               0   \n",
      "3           4  00000004_000.png            0           82               1   \n",
      "4           5  00000005_000.png            0           69               0   \n",
      "\n",
      "   View Position  Atelectasis  Cardiomegaly  Effusion  Infiltration  ...  \\\n",
      "0              0            0             1         0             0  ...   \n",
      "1              0            0             0         0             0  ...   \n",
      "2              0            0             0         0             0  ...   \n",
      "3              1            0             0         0             0  ...   \n",
      "4              0            0             0         0             0  ...   \n",
      "\n",
      "   Nodule  Pneumonia  Pneumothorax  Consolidation  Edema  Emphysema  Fibrosis  \\\n",
      "0       0          0             0              0      0          0         0   \n",
      "1       0          0             0              0      0          0         0   \n",
      "2       0          0             0              0      0          0         0   \n",
      "3       1          0             0              0      0          0         0   \n",
      "4       0          0             0              0      0          0         0   \n",
      "\n",
      "   Pleural_Thickening  Hernia  No Finding  \n",
      "0                   0       0           0  \n",
      "1                   0       0           1  \n",
      "2                   0       1           0  \n",
      "3                   0       0           0  \n",
      "4                   0       0           1  \n",
      "\n",
      "[5 rows x 21 columns]\n"
     ]
    }
   ],
   "source": [
    "# First of all - let's group the data by 'Patient ID' and add all necessary columns. Let's assume that patients with multiple images have the state of their lungsconstant over time, \n",
    "# so we can use the first image as a representative of the patient - it may not rflect reality all the time, but it's adequate assumption in this case. We don't want to overcomplicate the splitting more than necessary.\n",
    "\n",
    "\n",
    "# Group by 'Patient ID' and aggregate the data\n",
    "grouped_data = (model_data.sort_values(['Patient ID', 'Follow-up #'])\n",
    "                .groupby('Patient ID')\n",
    "                .first()\n",
    "                .reset_index())\n",
    "\n",
    "print(grouped_data.head())"
   ]
  },
  {
   "cell_type": "code",
   "execution_count": 25,
   "id": "5661be47",
   "metadata": {},
   "outputs": [],
   "source": [
    "\n",
    "finding_vals = ['Atelectasis', 'Cardiomegaly', 'Effusion', 'Infiltration', 'Mass', 'Nodule', 'Pneumonia', \n",
    "                'Pneumothorax', 'Consolidation', 'Edema', 'Emphysema', 'Fibrosis', 'Pleural_Thickening', 'Hernia', \n",
    "                 'No Finding']\n",
    "\n",
    "\n",
    "\n",
    "x = grouped_data['Patient ID']\n",
    "y = grouped_data[finding_vals].values\n",
    "\n",
    "MSKF = MultilabelStratifiedKFold(n_splits=5, shuffle=True, random_state=99)\n",
    "\n",
    "train_idx, test_val_idx = next(MSKF.split(x, y))\n",
    "\n",
    "train_patients = x.iloc[train_idx]\n",
    "test_val_patients = x.iloc[test_val_idx]\n",
    "\n",
    "\n"
   ]
  },
  {
   "cell_type": "code",
   "execution_count": 26,
   "id": "6e4a75d4",
   "metadata": {},
   "outputs": [],
   "source": [
    "# Now we can create a train/validation split from the training set. The same method will be used to ensure that the label distribution is proportional and that patients with multiple images are in the same set\n",
    "\n",
    "x_test_val = grouped_data['Patient ID'].iloc[test_val_idx]\n",
    "y_test_val = grouped_data[finding_vals].iloc[test_val_idx].values\n",
    "\n",
    "MSKF_2 = MultilabelStratifiedKFold(n_splits=2, shuffle=True, random_state=99)\n",
    "\n",
    "val_idx, test_idx = next(MSKF_2.split(x_test_val, y_test_val))\n",
    "\n",
    "val_patients = x_test_val.iloc[val_idx]\n",
    "test_patients = x_test_val.iloc[test_idx]\n",
    "\n",
    "\n"
   ]
  },
  {
   "cell_type": "code",
   "execution_count": 27,
   "id": "096ff1a4",
   "metadata": {},
   "outputs": [],
   "source": [
    "train_df = model_data[model_data['Patient ID'].isin(train_patients)].copy()\n",
    "val_df = model_data[model_data['Patient ID'].isin(val_patients)].copy()\n",
    "test_df = model_data[model_data['Patient ID'].isin(test_patients)].copy()"
   ]
  },
  {
   "cell_type": "code",
   "execution_count": 34,
   "id": "3117e642",
   "metadata": {},
   "outputs": [
    {
     "name": "stdout",
     "output_type": "stream",
     "text": [
      "{'Train': Atelectasis           0.104324\n",
      "Cardiomegaly          0.024244\n",
      "Effusion              0.118942\n",
      "Infiltration          0.176752\n",
      "Mass                  0.050462\n",
      "Nodule                0.054580\n",
      "Pneumonia             0.012688\n",
      "Pneumothorax          0.045470\n",
      "Consolidation         0.041510\n",
      "Edema                 0.020699\n",
      "Emphysema             0.022292\n",
      "Fibrosis              0.015168\n",
      "Pleural_Thickening    0.029932\n",
      "Hernia                0.002053\n",
      "No Finding            0.541902\n",
      "dtype: float64, 'Validation': Atelectasis           0.099095\n",
      "Cardiomegaly          0.029026\n",
      "Effusion              0.120843\n",
      "Infiltration          0.177033\n",
      "Mass                  0.057460\n",
      "Nodule                0.062114\n",
      "Pneumonia             0.013201\n",
      "Pneumothorax          0.058475\n",
      "Consolidation         0.043751\n",
      "Edema                 0.021494\n",
      "Emphysema             0.026064\n",
      "Fibrosis              0.014894\n",
      "Pleural_Thickening    0.033850\n",
      "Hernia                0.001185\n",
      "No Finding            0.523314\n",
      "dtype: float64, 'Test': Atelectasis           0.097546\n",
      "Cardiomegaly          0.024364\n",
      "Effusion              0.115281\n",
      "Infiltration          0.183268\n",
      "Mass                  0.054192\n",
      "Nodule                0.065568\n",
      "Pneumonia             0.012899\n",
      "Pneumothorax          0.049982\n",
      "Consolidation         0.040308\n",
      "Edema                 0.018273\n",
      "Emphysema             0.019796\n",
      "Fibrosis              0.014153\n",
      "Pleural_Thickening    0.028395\n",
      "Hernia                0.002687\n",
      "No Finding            0.525976\n",
      "dtype: float64}\n"
     ]
    }
   ],
   "source": [
    "# Let's see if the MSKF worked as expected\n",
    "def show_split_distribution(df):\n",
    "    return df[finding_vals].mean()\n",
    "\n",
    "\n",
    "ver_dict = {}\n",
    "ver_dict['Train'] = show_split_distribution(train_df)\n",
    "ver_dict['Validation'] = show_split_distribution(val_df)\n",
    "ver_dict['Test'] = show_split_distribution(test_df)\n",
    "\n",
    "print(ver_dict)\n",
    "\n",
    "# We can see that the label distribution is relatively proportional in all sets - there are some differences in some categories, but it's expected, since they are rare"
   ]
  },
  {
   "cell_type": "code",
   "execution_count": null,
   "id": "6a84e53c",
   "metadata": {},
   "outputs": [],
   "source": [
    "# Now let's remove Patient ID and Follow-up # columns, since we don't need them anymore. We will use 'image_id' as an unique ID for each sample\n",
    "cols_to_remove = ['Patient ID', 'Follow-up #']\n",
    "\n",
    "def remove_cols(df, cols):\n",
    "    df = df.drop(columns=cols)\n",
    "    return df\n",
    "\n",
    "train_df = remove_cols(train_df, cols_to_remove)\n",
    "val_df = remove_cols(val_df, cols_to_remove)\n",
    "test_df = remove_cols(test_df, cols_to_remove)\n",
    "\n"
   ]
  },
  {
   "cell_type": "markdown",
   "id": "1a231aa9",
   "metadata": {},
   "source": [
    "Now it's time for normalization. We want to do on the train dataset, after splitting data - to prevent data leakage, we don't want the information from val/test set in our model during training"
   ]
  },
  {
   "cell_type": "code",
   "execution_count": 41,
   "id": "4e03fda9",
   "metadata": {},
   "outputs": [
    {
     "name": "stdout",
     "output_type": "stream",
     "text": [
      "           image_id  Patient Gender  View Position  Atelectasis  Cardiomegaly  \\\n",
      "0  00000001_000.png               1              0            0             1   \n",
      "1  00000001_001.png               1              0            0             1   \n",
      "2  00000001_002.png               1              0            0             1   \n",
      "3  00000002_000.png               1              0            0             0   \n",
      "4  00000003_000.png               0              0            0             0   \n",
      "\n",
      "   Effusion  Infiltration  Mass  Nodule  Pneumonia  Pneumothorax  \\\n",
      "0         0             0     0       0          0             0   \n",
      "1         0             0     0       0          0             0   \n",
      "2         1             0     0       0          0             0   \n",
      "3         0             0     0       0          0             0   \n",
      "4         0             0     0       0          0             0   \n",
      "\n",
      "   Consolidation  Edema  Emphysema  Fibrosis  Pleural_Thickening  Hernia  \\\n",
      "0              0      0          0         0                   0       0   \n",
      "1              0      0          1         0                   0       0   \n",
      "2              0      0          0         0                   0       0   \n",
      "3              0      0          0         0                   0       0   \n",
      "4              0      0          0         0                   0       1   \n",
      "\n",
      "   No Finding  PatientAge_norm  \n",
      "0           0         0.606383  \n",
      "1           0         0.606383  \n",
      "2           0         0.606383  \n",
      "3           1         0.851064  \n",
      "4           0         0.851064  \n"
     ]
    }
   ],
   "source": [
    "\n",
    "normalization_params = {\"min_age\": train_df['Patient Age'].min(),\n",
    "                        \"max_age\": train_df['Patient Age'].max()}\n",
    "\n",
    "train_df['PatientAge_norm'] = (train_df['Patient Age'] - normalization_params[\"min_age\"]) / (normalization_params[\"max_age\"] - normalization_params[\"min_age\"])\n",
    "train_df.drop(columns=['Patient Age'], inplace=True)\n",
    "\n",
    "\n",
    "print(train_df.head())"
   ]
  },
  {
   "cell_type": "code",
   "execution_count": 42,
   "id": "a0a76b83",
   "metadata": {},
   "outputs": [],
   "source": [
    "val_df['PatientAge_norm'] = (val_df['Patient Age'] - normalization_params[\"min_age\"]) / (normalization_params[\"max_age\"] - normalization_params[\"min_age\"])\n",
    "val_df.drop(columns=['Patient Age'], inplace=True)\n",
    "\n",
    "test_df['PatientAge_norm'] = (test_df['Patient Age'] - normalization_params[\"min_age\"]) / (normalization_params[\"max_age\"] - normalization_params[\"min_age\"])\n",
    "test_df.drop(columns=['Patient Age'], inplace=True)"
   ]
  },
  {
   "cell_type": "markdown",
   "id": "86e19e68",
   "metadata": {},
   "source": [
    "Everything is ready, now we can export the datasets into separate files. <br>\n",
    "In the next notebook we will work with images"
   ]
  },
  {
   "cell_type": "code",
   "execution_count": 44,
   "id": "a9c27853",
   "metadata": {},
   "outputs": [],
   "source": [
    "train_df.to_parquet('../data/train_df.parquet')\n",
    "\n",
    "val_df.to_parquet('../data/val_df.parquet')\n",
    "\n",
    "test_df.to_parquet('../data/test_df.parquet')"
   ]
  },
  {
   "cell_type": "code",
   "execution_count": null,
   "id": "be58c7c8",
   "metadata": {},
   "outputs": [],
   "source": []
  },
  {
   "cell_type": "code",
   "execution_count": null,
   "id": "c2685be7",
   "metadata": {},
   "outputs": [],
   "source": []
  },
  {
   "cell_type": "code",
   "execution_count": null,
   "id": "1118089f",
   "metadata": {},
   "outputs": [],
   "source": []
  }
 ],
 "metadata": {
  "kernelspec": {
   "display_name": "base",
   "language": "python",
   "name": "python3"
  },
  "language_info": {
   "codemirror_mode": {
    "name": "ipython",
    "version": 3
   },
   "file_extension": ".py",
   "mimetype": "text/x-python",
   "name": "python",
   "nbconvert_exporter": "python",
   "pygments_lexer": "ipython3",
   "version": "3.12.3"
  }
 },
 "nbformat": 4,
 "nbformat_minor": 5
}
