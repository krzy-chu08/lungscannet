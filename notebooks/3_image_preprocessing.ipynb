{
 "cells": [
  {
   "cell_type": "code",
   "execution_count": 4,
   "id": "3155c746",
   "metadata": {},
   "outputs": [],
   "source": [
    "import os\n",
    "import pandas as pd\n",
    "from PIL import Image\n",
    "from tqdm import tqdm\n",
    "\n",
    "\n"
   ]
  },
  {
   "cell_type": "code",
   "execution_count": 5,
   "id": "e97af9d1",
   "metadata": {},
   "outputs": [],
   "source": [
    "image_dir = '../data/versions/3/images'\n",
    "output_base_dir = '../data/images'\n",
    "\n",
    "train_df = pd.read_parquet('../data/train_df.parquet')\n",
    "val_df = pd.read_parquet('../data/val_df.parquet')\n",
    "test_df = pd.read_parquet('../data/test_df.parquet')\n",
    "\n",
    "splits_dict = {\n",
    "    'train': train_df,\n",
    "    'val': val_df,\n",
    "    'test': test_df\n",
    "    }\n",
    "\n",
    "target_size = (224, 224)\n",
    "\n"
   ]
  },
  {
   "cell_type": "code",
   "execution_count": 7,
   "id": "63e3434b",
   "metadata": {},
   "outputs": [
    {
     "name": "stderr",
     "output_type": "stream",
     "text": [
      "Processing train: 100%|██████████| 89136/89136 [50:03<00:00, 29.67it/s]\n",
      "Processing val: 100%|██████████| 11817/11817 [06:39<00:00, 29.61it/s]\n",
      "Processing test: 100%|██████████| 11164/11164 [06:17<00:00, 29.59it/s]"
     ]
    },
    {
     "name": "stdout",
     "output_type": "stream",
     "text": [
      "Image preprocessing completed.\n"
     ]
    },
    {
     "name": "stderr",
     "output_type": "stream",
     "text": [
      "\n"
     ]
    }
   ],
   "source": [
    "def resize_and_save_img(split_name, df):\n",
    "    output_dir = os.path.join(output_base_dir, split_name)\n",
    "    os.makedirs(output_dir, exist_ok=True)\n",
    "\n",
    "    for image_id in tqdm(df['image_id'], desc=f\"Processing {split_name}\"):\n",
    "        input_path = os.path.join(image_dir, image_id)\n",
    "        output_path = os.path.join(output_dir, image_id)\n",
    "        \n",
    "        try:\n",
    "            img = Image.open(input_path).convert('RGB')\n",
    "            img = img.resize(target_size, Image.LANCZOS)\n",
    "            img.save(output_path)\n",
    "        except Exception as e:\n",
    "            print(f\"Failed to process {image_id}: {e}\")\n",
    "\n",
    "\n",
    "for split_name, df in splits_dict.items():\n",
    "    resize_and_save_img(split_name, df)\n",
    "\n",
    "print(\"Image preprocessing completed.\")"
   ]
  },
  {
   "cell_type": "code",
   "execution_count": null,
   "id": "a302b08b",
   "metadata": {},
   "outputs": [],
   "source": []
  }
 ],
 "metadata": {
  "kernelspec": {
   "display_name": "base",
   "language": "python",
   "name": "python3"
  },
  "language_info": {
   "codemirror_mode": {
    "name": "ipython",
    "version": 3
   },
   "file_extension": ".py",
   "mimetype": "text/x-python",
   "name": "python",
   "nbconvert_exporter": "python",
   "pygments_lexer": "ipython3",
   "version": "3.12.3"
  }
 },
 "nbformat": 4,
 "nbformat_minor": 5
}
